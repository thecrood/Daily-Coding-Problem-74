{
 "cells": [
  {
   "cell_type": "markdown",
   "id": "2a283f01",
   "metadata": {},
   "source": [
    "# Daily Coding Problem 74"
   ]
  },
  {
   "cell_type": "raw",
   "id": "cf4b396b",
   "metadata": {},
   "source": [
    "This problem was asked by Apple.\n",
    "\n",
    "Suppose you have a multiplication table that is N by N. That is, a 2D array where the value at the i-th row and j-th column is (i + 1) * (j + 1) (if 0-indexed) or i * j (if 1-indexed).\n",
    "\n",
    "Given integers N and X, write a function that returns the number of times X appears as a value in an N by N multiplication table.\n",
    "\n",
    "For example, given N = 6 and X = 12, you should return 4, since the multiplication table looks like this:\n",
    "\n",
    "| 1 | 2 | 3 | 4 | 5 | 6 |\n",
    "\n",
    "| 2 | 4 | 6 | 8 | 10 | 12 |\n",
    "\n",
    "| 3 | 6 | 9 | 12 | 15 | 18 |\n",
    "\n",
    "| 4 | 8 | 12 | 16 | 20 | 24 |\n",
    "\n",
    "| 5 | 10 | 15 | 20 | 25 | 30 |\n",
    "\n",
    "| 6 | 12 | 18 | 24 | 30 | 36 |\n",
    "\n",
    "And there are 4 12's in the table."
   ]
  },
  {
   "cell_type": "markdown",
   "id": "b1f7b1cb",
   "metadata": {},
   "source": [
    "# Solution\n",
    "\n",
    "We can do this naively in O(N^2) time by actually trying out all the possible combinations, and incrementing a counter each time we see one:\n"
   ]
  },
  {
   "cell_type": "code",
   "execution_count": 1,
   "id": "2d72cca1",
   "metadata": {},
   "outputs": [],
   "source": [
    "def multi_tables(n, x):\n",
    "    count = 0\n",
    "    for i in range(1, n + 1):\n",
    "        for j in range(1, n + 1):\n",
    "            if i * j == x:\n",
    "                count += 1\n",
    "    return count"
   ]
  },
  {
   "cell_type": "markdown",
   "id": "46442345",
   "metadata": {},
   "source": [
    "We can do this faster, though. Notice, in our example, that if we look at the rows or columns of the cells that matched with 12, that they are all factors of 12. There can also only be one matching cell per row. So, we can determine whether a particular row will match X if:\n",
    "\n",
    " 1. It is a factor of X\n",
    " 2. Its corresponding factor is less than N (so it's still in the matrix)."
   ]
  },
  {
   "cell_type": "code",
   "execution_count": 3,
   "id": "9bae9175",
   "metadata": {},
   "outputs": [],
   "source": [
    "def multi_tables(n, x):\n",
    "    count = 0\n",
    "    for i in range(1, n + 1):\n",
    "        if x % i == 0 and x / i <= n:\n",
    "            count += 1\n",
    "    return count\n"
   ]
  },
  {
   "cell_type": "markdown",
   "id": "97bf88a3",
   "metadata": {},
   "source": [
    "This only takes O(N) time."
   ]
  },
  {
   "cell_type": "code",
   "execution_count": null,
   "id": "0101437e",
   "metadata": {},
   "outputs": [],
   "source": []
  }
 ],
 "metadata": {
  "kernelspec": {
   "display_name": "Python 3 (ipykernel)",
   "language": "python",
   "name": "python3"
  },
  "language_info": {
   "codemirror_mode": {
    "name": "ipython",
    "version": 3
   },
   "file_extension": ".py",
   "mimetype": "text/x-python",
   "name": "python",
   "nbconvert_exporter": "python",
   "pygments_lexer": "ipython3",
   "version": "3.8.10"
  }
 },
 "nbformat": 4,
 "nbformat_minor": 5
}
